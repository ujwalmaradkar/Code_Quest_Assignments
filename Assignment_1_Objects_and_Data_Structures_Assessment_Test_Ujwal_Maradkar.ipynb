{
  "nbformat": 4,
  "nbformat_minor": 0,
  "metadata": {
    "anaconda-cloud": {},
    "kernelspec": {
      "display_name": "Python 3",
      "language": "python",
      "name": "python3"
    },
    "language_info": {
      "codemirror_mode": {
        "name": "ipython",
        "version": 3
      },
      "file_extension": ".py",
      "mimetype": "text/x-python",
      "name": "python",
      "nbconvert_exporter": "python",
      "pygments_lexer": "ipython3",
      "version": "3.6.8"
    },
    "colab": {
      "name": "Assignment 1-Objects and Data Structures Assessment Test UJWAL MARADKAR.ipynb",
      "provenance": [],
      "collapsed_sections": [],
      "include_colab_link": true
    }
  },
  "cells": [
    {
      "cell_type": "markdown",
      "metadata": {
        "id": "view-in-github",
        "colab_type": "text"
      },
      "source": [
        "<a href=\"https://colab.research.google.com/github/ujwalmaradkar/Code_Quest_Assignments/blob/main/Assignment_1_Objects_and_Data_Structures_Assessment_Test_Ujwal_Maradkar.ipynb\" target=\"_parent\"><img src=\"https://colab.research.google.com/assets/colab-badge.svg\" alt=\"Open In Colab\"/></a>"
      ]
    },
    {
      "cell_type": "markdown",
      "metadata": {
        "collapsed": true,
        "id": "vFg6IUuhNdKW"
      },
      "source": [
        "## Test your knowledge. \n",
        "\n",
        "** Answer the following questions **"
      ]
    },
    {
      "cell_type": "markdown",
      "metadata": {
        "id": "a4es5-JaNdKk"
      },
      "source": [
        "## Numbers\n",
        "\n",
        "Write an equation that uses multiplication, division, an exponent, addition, and subtraction that is equal to 100.25.\n",
        "\n",
        "Hint: This is just to test your memory of the basic arithmetic commands, work backwards from 100.25"
      ]
    },
    {
      "cell_type": "code",
      "metadata": {
        "id": "Rrp060jjNdKm",
        "colab": {
          "base_uri": "https://localhost:8080/"
        },
        "outputId": "37f50198-1baa-4a78-ecf9-6c5aa06f2b47"
      },
      "source": [
        "print(100+(10*10/4)/100)\r\n",
        "print((100**3)**0.33352)"
      ],
      "execution_count": null,
      "outputs": [
        {
          "output_type": "stream",
          "text": [
            "100.25\n",
            "100.25822235150689\n"
          ],
          "name": "stdout"
        }
      ]
    },
    {
      "cell_type": "markdown",
      "metadata": {
        "id": "ED5ZwD6kNdKq"
      },
      "source": [
        "Answer these 3 questions without typing code. Then type code to check your answer.\n",
        "\n",
        "    What is the value of the expression 4 * (6 + 5) = 44\n",
        "    \n",
        "    What is the value of the expression 4 * 6 + 5  = 29\n",
        "    \n",
        "    What is the value of the expression 4 + 6 * 5  = 34"
      ]
    },
    {
      "cell_type": "code",
      "metadata": {
        "id": "UYUW6dHRNdKs",
        "colab": {
          "base_uri": "https://localhost:8080/"
        },
        "outputId": "b138b957-e7d6-4210-d5ab-2760f0ff5a05"
      },
      "source": [
        "print(4*(6+5))\r\n",
        "print(4*6+5)\r\n",
        "print(4+6*5)"
      ],
      "execution_count": null,
      "outputs": [
        {
          "output_type": "stream",
          "text": [
            "44\n",
            "29\n",
            "34\n"
          ],
          "name": "stdout"
        }
      ]
    },
    {
      "cell_type": "markdown",
      "metadata": {
        "id": "ZnPPGGMqNdKu"
      },
      "source": [
        "What is the *type* of the result of the expression 3 + 1.5 + 4?<br><br>\r\n",
        "= 8.5"
      ]
    },
    {
      "cell_type": "markdown",
      "metadata": {
        "id": "hDvTyxzPNdKv"
      },
      "source": [
        "What would you use to find a number’s square root, as well as its square? "
      ]
    },
    {
      "cell_type": "code",
      "metadata": {
        "collapsed": true,
        "id": "kQeKv9rLNdKw",
        "colab": {
          "base_uri": "https://localhost:8080/"
        },
        "outputId": "5e3fe968-d1d5-4eb4-e546-72ea5ece9b7a"
      },
      "source": [
        "# Square\n",
        "print(7*7)\n",
        "\n"
      ],
      "execution_count": null,
      "outputs": [
        {
          "output_type": "stream",
          "text": [
            "49\n"
          ],
          "name": "stdout"
        }
      ]
    },
    {
      "cell_type": "code",
      "metadata": {
        "collapsed": true,
        "id": "4qb44g2wNdKw",
        "colab": {
          "base_uri": "https://localhost:8080/"
        },
        "outputId": "8296de89-4279-45ec-e916-58a532ae1470"
      },
      "source": [
        "# Square:\n",
        "# I would import the math library and then use the mat.sqrt() fuction\n",
        "# Otherwise i hve to build the logic for finding the squareroot Or simply\n",
        "print(int(49**0.5))"
      ],
      "execution_count": null,
      "outputs": [
        {
          "output_type": "stream",
          "text": [
            "7\n"
          ],
          "name": "stdout"
        }
      ]
    },
    {
      "cell_type": "markdown",
      "metadata": {
        "id": "WwS8PqvENdKx"
      },
      "source": [
        "## Strings"
      ]
    },
    {
      "cell_type": "markdown",
      "metadata": {
        "id": "-hJ3fUU0NdKy"
      },
      "source": [
        "Given the string 'hello' give an index command that returns 'e'. Enter your code in the cell below:"
      ]
    },
    {
      "cell_type": "code",
      "metadata": {
        "collapsed": true,
        "id": "iUdAcnUMNdKy",
        "colab": {
          "base_uri": "https://localhost:8080/"
        },
        "outputId": "38aaee0c-fefa-46b8-b344-44cdf026d0ed"
      },
      "source": [
        "s = 'hello'\n",
        "# Print out 'e' using indexing\n",
        "print(s[1])\n"
      ],
      "execution_count": null,
      "outputs": [
        {
          "output_type": "stream",
          "text": [
            "e\n"
          ],
          "name": "stdout"
        }
      ]
    },
    {
      "cell_type": "markdown",
      "metadata": {
        "id": "57lGWWfGNdKz"
      },
      "source": [
        "Reverse the string 'hello' using slicing:"
      ]
    },
    {
      "cell_type": "code",
      "metadata": {
        "collapsed": true,
        "id": "MusymcjbNdK0",
        "colab": {
          "base_uri": "https://localhost:8080/"
        },
        "outputId": "678a01b9-99ba-4fa6-bad7-b5627083fddb"
      },
      "source": [
        "s ='hello'\n",
        "# Reverse the string using slicing\n",
        "print(s[-1::-1])\n"
      ],
      "execution_count": null,
      "outputs": [
        {
          "output_type": "stream",
          "text": [
            "olleh\n"
          ],
          "name": "stdout"
        }
      ]
    },
    {
      "cell_type": "markdown",
      "metadata": {
        "id": "ZaG3KdIrNdK1"
      },
      "source": [
        "Given the string hello, give two methods of producing the letter 'o' using indexing."
      ]
    },
    {
      "cell_type": "code",
      "metadata": {
        "collapsed": true,
        "id": "psjKnxUANdK1",
        "colab": {
          "base_uri": "https://localhost:8080/"
        },
        "outputId": "485ec66e-1338-4bee-b248-f01e7f1c62bf"
      },
      "source": [
        "s ='hello'\n",
        "# Print out the 'o'\n",
        "\n",
        "# Method 1:\n",
        "print(s[4])\n"
      ],
      "execution_count": null,
      "outputs": [
        {
          "output_type": "stream",
          "text": [
            "o\n"
          ],
          "name": "stdout"
        }
      ]
    },
    {
      "cell_type": "code",
      "metadata": {
        "collapsed": true,
        "id": "drnpiPWINdK2",
        "colab": {
          "base_uri": "https://localhost:8080/"
        },
        "outputId": "b90773db-4fe2-40fd-8a73-0f1fa30c635a"
      },
      "source": [
        "# Method 2:\n",
        "print(s[-1])\n",
        "\n"
      ],
      "execution_count": null,
      "outputs": [
        {
          "output_type": "stream",
          "text": [
            "o\n"
          ],
          "name": "stdout"
        }
      ]
    },
    {
      "cell_type": "markdown",
      "metadata": {
        "id": "fnFkVCKVNdK2"
      },
      "source": [
        "## Lists"
      ]
    },
    {
      "cell_type": "markdown",
      "metadata": {
        "id": "AC81QoHKNdK3"
      },
      "source": [
        "Build this list [0,0,0] two separate ways."
      ]
    },
    {
      "cell_type": "code",
      "metadata": {
        "collapsed": true,
        "id": "wgHaC-xgNdK3"
      },
      "source": [
        "# Method 1:\n",
        "lst = [0,0,0]\n"
      ],
      "execution_count": null,
      "outputs": []
    },
    {
      "cell_type": "code",
      "metadata": {
        "collapsed": true,
        "id": "aMAiOInuNdK4"
      },
      "source": [
        "# Method 2:\n",
        "lst\n",
        "lst = [0,0,0]"
      ],
      "execution_count": null,
      "outputs": []
    },
    {
      "cell_type": "markdown",
      "metadata": {
        "id": "vWsuTP-eNdK4"
      },
      "source": [
        "Reassign 'hello' in this nested list to say 'goodbye' instead:"
      ]
    },
    {
      "cell_type": "code",
      "metadata": {
        "collapsed": true,
        "id": "MNp75E1zNdK5",
        "colab": {
          "base_uri": "https://localhost:8080/"
        },
        "outputId": "a40fc48a-7b99-4e3d-f480-2288bd905d18"
      },
      "source": [
        "list3 = [1,2,[3,4,'hello']]\n",
        "list3[2][2]= 'goodbye'\n",
        "\n",
        "print(list3)"
      ],
      "execution_count": null,
      "outputs": [
        {
          "output_type": "stream",
          "text": [
            "[1, 2, [3, 4, 'goodbye']]\n"
          ],
          "name": "stdout"
        }
      ]
    },
    {
      "cell_type": "markdown",
      "metadata": {
        "id": "ahgcR1a-NdK5"
      },
      "source": [
        "Sort the list below:"
      ]
    },
    {
      "cell_type": "code",
      "metadata": {
        "collapsed": true,
        "id": "b4sjsJefNdK6",
        "colab": {
          "base_uri": "https://localhost:8080/"
        },
        "outputId": "c22ede9f-39f0-489e-a1c4-13fab78556eb"
      },
      "source": [
        "list4 = [5,3,4,6,1]\n",
        "\n",
        "for i in range(0,5):\n",
        "  for j in range(0,5):\n",
        "    if list4[i] < list4[j]:\n",
        "      x = list4[i]\n",
        "      list4[i] = list4[j]\n",
        "      list4[j] = x\n",
        "\n",
        "print(list4)\n",
        "\n"
      ],
      "execution_count": null,
      "outputs": [
        {
          "output_type": "stream",
          "text": [
            "[1, 3, 4, 5, 6]\n"
          ],
          "name": "stdout"
        }
      ]
    },
    {
      "cell_type": "markdown",
      "metadata": {
        "id": "4OuhaXkJNdK6"
      },
      "source": [
        "## Dictionaries"
      ]
    },
    {
      "cell_type": "markdown",
      "metadata": {
        "id": "KtWdv1_uNdK7"
      },
      "source": [
        "Using keys and indexing, grab the 'hello' from the following dictionaries:"
      ]
    },
    {
      "cell_type": "code",
      "metadata": {
        "collapsed": true,
        "id": "iDbB4n1QNdK7",
        "colab": {
          "base_uri": "https://localhost:8080/"
        },
        "outputId": "36402b57-a5dc-4e96-d759-7d1d20bec34b"
      },
      "source": [
        "d = {'simple_key':'hello'}\n",
        "# Grab 'hello'\n",
        "print(d['simple_key'])"
      ],
      "execution_count": null,
      "outputs": [
        {
          "output_type": "stream",
          "text": [
            "hello\n"
          ],
          "name": "stdout"
        }
      ]
    },
    {
      "cell_type": "code",
      "metadata": {
        "collapsed": true,
        "id": "HjwgN4NuNdK8",
        "colab": {
          "base_uri": "https://localhost:8080/"
        },
        "outputId": "6e823c14-00be-4ca8-d4f2-ed98c796ab9a"
      },
      "source": [
        "d = {'k1':{'k2':'hello'}}\n",
        "# Grab 'hello'\n",
        "print(d.get('k1').get('k2'))"
      ],
      "execution_count": null,
      "outputs": [
        {
          "output_type": "stream",
          "text": [
            "hello\n"
          ],
          "name": "stdout"
        }
      ]
    },
    {
      "cell_type": "code",
      "metadata": {
        "collapsed": true,
        "id": "rpSlmf13NdK8",
        "colab": {
          "base_uri": "https://localhost:8080/"
        },
        "outputId": "a58f90d3-3d0c-430d-c515-392983dd26ed"
      },
      "source": [
        "# Getting a little tricker\n",
        "d = {'k1':[{'nest_key':['this is deep',['hello']]}]}\n",
        "\n",
        "#Grab hello\n",
        "print(d.get('k1')[0].get('nest_key')[1])"
      ],
      "execution_count": null,
      "outputs": [
        {
          "output_type": "stream",
          "text": [
            "['hello']\n"
          ],
          "name": "stdout"
        }
      ]
    },
    {
      "cell_type": "code",
      "metadata": {
        "collapsed": true,
        "id": "CH7bqQfMNdK9"
      },
      "source": [
        "# This will be hard and annoying!\n",
        "d = {'k1':[1,2,{'k2':['this is tricky',{'tough':[1,2,['hello']]}]}]}\n"
      ],
      "execution_count": null,
      "outputs": []
    },
    {
      "cell_type": "markdown",
      "metadata": {
        "id": "KpifHNHcNdK9"
      },
      "source": [
        "Can you sort a dictionary? Why or why not?<br><br>\r\n",
        "It is so complex and not getting the way from where to start"
      ]
    },
    {
      "cell_type": "markdown",
      "metadata": {
        "id": "5IuPrLnpNdK-"
      },
      "source": [
        "## Tuples"
      ]
    },
    {
      "cell_type": "markdown",
      "metadata": {
        "id": "YfI5UOihNdK-"
      },
      "source": [
        "**What** is the major difference between tuples and lists?<br><br>\r\n"
      ]
    },
    {
      "cell_type": "markdown",
      "metadata": {
        "id": "bPTdbXBuNdK_"
      },
      "source": [
        "List elements can be modified, that is list is mutable\r\n",
        "and in Tuples, after assigning values to tuple one can not modify, chage or manipulate the elements of Tuple that is Tuples are Immutable"
      ]
    },
    {
      "cell_type": "markdown",
      "metadata": {
        "id": "uxPXuvSpNdK_"
      },
      "source": [
        "How do you create a tuple?<br><br>\r\n",
        "\r\n",
        "Just by adding elements in simple paranthesis '()'\r\n",
        "Or just by assignig many values to a single varible in front of '=' seperated by commas"
      ]
    },
    {
      "cell_type": "markdown",
      "metadata": {
        "id": "XAaM_RkfNdK_"
      },
      "source": [
        "## Sets "
      ]
    },
    {
      "cell_type": "markdown",
      "metadata": {
        "id": "WhOthAllNdLA"
      },
      "source": [
        "What is unique about a set?<br><br>\r\n",
        " Set is an unordered collection with no duplicate elements."
      ]
    },
    {
      "cell_type": "markdown",
      "metadata": {
        "id": "EueyyGRbNdLA"
      },
      "source": [
        "Use a set to find the unique values of the list below:"
      ]
    },
    {
      "cell_type": "code",
      "metadata": {
        "collapsed": true,
        "id": "oi8tB-5DNdLB",
        "colab": {
          "base_uri": "https://localhost:8080/"
        },
        "outputId": "d012444a-8ea5-41eb-ce91-45af38d2cd43"
      },
      "source": [
        "list5 = [1,2,2,33,4,4,11,22,3,3,2]\n",
        "set(list5)\n",
        "\n"
      ],
      "execution_count": null,
      "outputs": [
        {
          "output_type": "execute_result",
          "data": {
            "text/plain": [
              "{1, 2, 3, 4, 11, 22, 33}"
            ]
          },
          "metadata": {
            "tags": []
          },
          "execution_count": 101
        }
      ]
    },
    {
      "cell_type": "markdown",
      "metadata": {
        "id": "TwophsFuNdLB"
      },
      "source": [
        "## Booleans"
      ]
    },
    {
      "cell_type": "markdown",
      "metadata": {
        "id": "Ud3B-ht0NdLC"
      },
      "source": [
        "For the following quiz questions, we will get a preview of comparison operators. In the table below, a=3 and b=4.\n",
        "\n",
        "<table class=\"table table-bordered\">\n",
        "<tr>\n",
        "<th style=\"width:10%\">Operator</th><th style=\"width:45%\">Description</th><th>Example</th>\n",
        "</tr>\n",
        "<tr>\n",
        "<td>==</td>\n",
        "<td>If the values of two operands are equal, then the condition becomes true.</td>\n",
        "<td> (a == b) is not true.</td>\n",
        "</tr>\n",
        "<tr>\n",
        "<td>!=</td>\n",
        "<td>If values of two operands are not equal, then condition becomes true.</td>\n",
        "<td> (a != b) is true.</td>\n",
        "</tr>\n",
        "<tr>\n",
        "<td>&gt;</td>\n",
        "<td>If the value of left operand is greater than the value of right operand, then condition becomes true.</td>\n",
        "<td> (a &gt; b) is not true.</td>\n",
        "</tr>\n",
        "<tr>\n",
        "<td>&lt;</td>\n",
        "<td>If the value of left operand is less than the value of right operand, then condition becomes true.</td>\n",
        "<td> (a &lt; b) is true.</td>\n",
        "</tr>\n",
        "<tr>\n",
        "<td>&gt;=</td>\n",
        "<td>If the value of left operand is greater than or equal to the value of right operand, then condition becomes true.</td>\n",
        "<td> (a &gt;= b) is not true. </td>\n",
        "</tr>\n",
        "<tr>\n",
        "<td>&lt;=</td>\n",
        "<td>If the value of left operand is less than or equal to the value of right operand, then condition becomes true.</td>\n",
        "<td> (a &lt;= b) is true. </td>\n",
        "</tr>\n",
        "</table>"
      ]
    },
    {
      "cell_type": "markdown",
      "metadata": {
        "id": "ofXKFH48NdLD"
      },
      "source": [
        "What will be the resulting Boolean of the following pieces of code (answer fist then check by typing it in!)"
      ]
    },
    {
      "cell_type": "code",
      "metadata": {
        "collapsed": true,
        "id": "ab0EXK1TNdLD",
        "colab": {
          "base_uri": "https://localhost:8080/"
        },
        "outputId": "22329b4d-a2c0-4234-f112-78c7401a6fd2"
      },
      "source": [
        "# Answer before running cell\n",
        "2 > 3\n",
        "#False"
      ],
      "execution_count": null,
      "outputs": [
        {
          "output_type": "execute_result",
          "data": {
            "text/plain": [
              "False"
            ]
          },
          "metadata": {
            "tags": []
          },
          "execution_count": 102
        }
      ]
    },
    {
      "cell_type": "code",
      "metadata": {
        "collapsed": true,
        "id": "wzRWmnszNdLE",
        "colab": {
          "base_uri": "https://localhost:8080/"
        },
        "outputId": "063c5358-f515-433f-ea16-f500be51f51c"
      },
      "source": [
        "# Answer before running cell\n",
        "3 <= 2\n",
        "# Flase"
      ],
      "execution_count": null,
      "outputs": [
        {
          "output_type": "execute_result",
          "data": {
            "text/plain": [
              "False"
            ]
          },
          "metadata": {
            "tags": []
          },
          "execution_count": 103
        }
      ]
    },
    {
      "cell_type": "code",
      "metadata": {
        "collapsed": true,
        "id": "Vzs8QyYYNdLE",
        "colab": {
          "base_uri": "https://localhost:8080/"
        },
        "outputId": "9f3d0a64-db0b-461f-df2b-ea724b8eda6b"
      },
      "source": [
        "# Answer before running cell\n",
        "3 == 2.0\n",
        "# False"
      ],
      "execution_count": null,
      "outputs": [
        {
          "output_type": "execute_result",
          "data": {
            "text/plain": [
              "False"
            ]
          },
          "metadata": {
            "tags": []
          },
          "execution_count": 104
        }
      ]
    },
    {
      "cell_type": "code",
      "metadata": {
        "collapsed": true,
        "id": "IfCY5X7JNdLF",
        "colab": {
          "base_uri": "https://localhost:8080/"
        },
        "outputId": "81e68381-0353-4c65-b907-a4fc3711c018"
      },
      "source": [
        "# Answer before running cell\n",
        "3.0 == 3\n",
        "#True"
      ],
      "execution_count": null,
      "outputs": [
        {
          "output_type": "execute_result",
          "data": {
            "text/plain": [
              "True"
            ]
          },
          "metadata": {
            "tags": []
          },
          "execution_count": 105
        }
      ]
    },
    {
      "cell_type": "code",
      "metadata": {
        "collapsed": true,
        "id": "vmPVlQ6dNdLF",
        "colab": {
          "base_uri": "https://localhost:8080/"
        },
        "outputId": "b93aa3f4-7adb-456f-8ee7-7ee489789bb8"
      },
      "source": [
        "# Answer before running cell\n",
        "4**0.5 != 2\n",
        "# False"
      ],
      "execution_count": null,
      "outputs": [
        {
          "output_type": "execute_result",
          "data": {
            "text/plain": [
              "False"
            ]
          },
          "metadata": {
            "tags": []
          },
          "execution_count": 106
        }
      ]
    },
    {
      "cell_type": "markdown",
      "metadata": {
        "id": "SUIPgtYQNdLG"
      },
      "source": [
        "Final Question: What is the boolean output of the cell block below?"
      ]
    },
    {
      "cell_type": "code",
      "metadata": {
        "collapsed": true,
        "id": "R39JNF-INdLG",
        "colab": {
          "base_uri": "https://localhost:8080/"
        },
        "outputId": "175f4547-1b6d-43cd-ecfd-ac29479751a8"
      },
      "source": [
        "# two nested lists\n",
        "l_one = [1,2,[3,4]] \n",
        "l_two = [1,2,{'k1':4}]\n",
        "\n",
        "# True or False?\n",
        "l_one[2][0] >= l_two[2]['k1']\n",
        "#False\n"
      ],
      "execution_count": null,
      "outputs": [
        {
          "output_type": "execute_result",
          "data": {
            "text/plain": [
              "False"
            ]
          },
          "metadata": {
            "tags": []
          },
          "execution_count": 107
        }
      ]
    },
    {
      "cell_type": "markdown",
      "metadata": {
        "id": "_3Ms1ZDwNdLH"
      },
      "source": [
        "## Great Job on your first assessment! "
      ]
    }
  ]
}