{
  "nbformat": 4,
  "nbformat_minor": 0,
  "metadata": {
    "kernelspec": {
      "display_name": "Python 3",
      "language": "python",
      "name": "python3"
    },
    "language_info": {
      "codemirror_mode": {
        "name": "ipython",
        "version": 3
      },
      "file_extension": ".py",
      "mimetype": "text/x-python",
      "name": "python",
      "nbconvert_exporter": "python",
      "pygments_lexer": "ipython3",
      "version": "3.6.8"
    },
    "colab": {
      "name": "Assignment_04 CODEQUEST Functions and Methods_Homework_Ujwal.ipynb",
      "provenance": [],
      "include_colab_link": true
    }
  },
  "cells": [
    {
      "cell_type": "markdown",
      "metadata": {
        "id": "view-in-github",
        "colab_type": "text"
      },
      "source": [
        "<a href=\"https://colab.research.google.com/github/ujwalmaradkar/Code_Quest_Assignments/blob/main/Assignment_04_CODEQUEST_Functions_and_Methods_Homework_Ujwal.ipynb\" target=\"_parent\"><img src=\"https://colab.research.google.com/assets/colab-badge.svg\" alt=\"Open In Colab\"/></a>"
      ]
    },
    {
      "cell_type": "markdown",
      "metadata": {
        "id": "5PRCFyvALlIM"
      },
      "source": [
        "# Functions and Methods Homework \n",
        "\n",
        "Complete the following questions:\n",
        "____\n",
        "**Write a function that computes the volume of a sphere given its radius.**\n",
        "<p>The volume of a sphere is given as $$\\frac{4}{3} πr^3$$</p>"
      ]
    },
    {
      "cell_type": "code",
      "metadata": {
        "collapsed": true,
        "id": "9xvO9CKhLlIc"
      },
      "source": [
        "def vol(rad):\n",
        "   return ((4/3)*22/7*rad*rad*rad)"
      ],
      "execution_count": null,
      "outputs": []
    },
    {
      "cell_type": "code",
      "metadata": {
        "id": "AUikgtAkLlIg",
        "colab": {
          "base_uri": "https://localhost:8080/"
        },
        "outputId": "dab02597-0baa-462b-95f7-bdcc00b854e1"
      },
      "source": [
        "# Check\n",
        "vol(2)"
      ],
      "execution_count": null,
      "outputs": [
        {
          "output_type": "execute_result",
          "data": {
            "text/plain": [
              "33.523809523809526"
            ]
          },
          "metadata": {
            "tags": []
          },
          "execution_count": 5
        }
      ]
    },
    {
      "cell_type": "markdown",
      "metadata": {
        "id": "AmuRdw22LlIi"
      },
      "source": [
        "**Write a Python function to find the Max of three numbers (dont use max() function )**"
      ]
    },
    {
      "cell_type": "code",
      "metadata": {
        "collapsed": true,
        "id": "0AAAXoIxLlIj"
      },
      "source": [
        "def maximum(num1, num2, num3):\n",
        "  if num1>num2 and num1>num3:\n",
        "    return num1\n",
        "  elif num2>num1 and num2>num3:\n",
        "    return num2\n",
        "  else:\n",
        "    return num3"
      ],
      "execution_count": null,
      "outputs": []
    },
    {
      "cell_type": "code",
      "metadata": {
        "id": "d1RWca8XP68t",
        "colab": {
          "base_uri": "https://localhost:8080/"
        },
        "outputId": "b9b0bfd6-2932-4a6d-dd08-429f8a265f26"
      },
      "source": [
        "maximum(1,2,4)"
      ],
      "execution_count": null,
      "outputs": [
        {
          "output_type": "execute_result",
          "data": {
            "text/plain": [
              "4"
            ]
          },
          "metadata": {
            "tags": []
          },
          "execution_count": 29
        }
      ]
    },
    {
      "cell_type": "markdown",
      "metadata": {
        "id": "rJidhY-BLlIk"
      },
      "source": [
        "___\n",
        "**Write a function that checks whether a number is in a given range (inclusive of high and low)**"
      ]
    },
    {
      "cell_type": "code",
      "metadata": {
        "collapsed": true,
        "id": "pgAHpaXjLlIk"
      },
      "source": [
        "def ran_check(num,low,high):\n",
        "   if num in range (low,high+1):\n",
        "     return print(\"{} is     in the range between {} and {}\".format(num,low,high))"
      ],
      "execution_count": null,
      "outputs": []
    },
    {
      "cell_type": "code",
      "metadata": {
        "id": "xRmA5Q03LlIl",
        "colab": {
          "base_uri": "https://localhost:8080/"
        },
        "outputId": "f526945a-ed72-4df6-c613-921adf7f793f"
      },
      "source": [
        "# Check\n",
        "ran_check(5,2,7)"
      ],
      "execution_count": null,
      "outputs": [
        {
          "output_type": "stream",
          "text": [
            "5 is     in the range between 2 and 7\n"
          ],
          "name": "stdout"
        }
      ]
    },
    {
      "cell_type": "markdown",
      "metadata": {
        "id": "Lw1DEqqJLlIm"
      },
      "source": [
        "If you only wanted to return a boolean:"
      ]
    },
    {
      "cell_type": "code",
      "metadata": {
        "collapsed": true,
        "id": "AiurXLVPLlIn"
      },
      "source": [
        "def ran_bool(num,low,high):\n",
        "  if num in range(low,high+1):\n",
        "    return True\n",
        "  else:\n",
        "    return False"
      ],
      "execution_count": null,
      "outputs": []
    },
    {
      "cell_type": "code",
      "metadata": {
        "id": "TGpPcVuLLlIn",
        "colab": {
          "base_uri": "https://localhost:8080/"
        },
        "outputId": "62b3b4c5-dc12-4ebe-9cba-b5aa26241c2d"
      },
      "source": [
        "ran_bool(3,1,10)"
      ],
      "execution_count": null,
      "outputs": [
        {
          "output_type": "execute_result",
          "data": {
            "text/plain": [
              "True"
            ]
          },
          "metadata": {
            "tags": []
          },
          "execution_count": 13
        }
      ]
    },
    {
      "cell_type": "markdown",
      "metadata": {
        "id": "Q5IPl4xpLlIo"
      },
      "source": [
        "____\n",
        "**Write a Python function that accepts a string and calculates the number of upper case letters and lower case letters.**\n",
        "\n",
        "    Sample String : 'Hello Mr. Rogers, how are you this fine Tuesday?'\n",
        "    Expected Output : \n",
        "    No. of Upper case characters : 4\n",
        "    No. of Lower case Characters : 33\n",
        "\n",
        "HINT: Two string methods that might prove useful: **.isupper()** and **.islower()**\n",
        "\n",
        "If you feel ambitious, explore the Collections module to solve this problem!"
      ]
    },
    {
      "cell_type": "code",
      "metadata": {
        "collapsed": true,
        "id": "tDIXl4rQLlIp"
      },
      "source": [
        "\n",
        "def up_low(s):\n",
        "  d={\"UPPER_CASE\":0, \"LOWER_CASE\":0}\n",
        "  for c in s:\n",
        "    if c.isupper():\n",
        "      d[\"UPPER_CASE\"]+=1\n",
        "    elif c.islower():\n",
        "      d[\"LOWER_CASE\"]+=1\n",
        "    else:\n",
        "      pass\n",
        "  print (\"Original String : \", s)\n",
        "  print (\"No. of Upper case characters : \", d[\"UPPER_CASE\"])\n",
        "  print (\"No. of Lower case Characters : \", d[\"LOWER_CASE\"])"
      ],
      "execution_count": null,
      "outputs": []
    },
    {
      "cell_type": "code",
      "metadata": {
        "id": "nIEI6wHeLlIq",
        "colab": {
          "base_uri": "https://localhost:8080/"
        },
        "outputId": "670f5fde-9d9d-42e7-8f60-b86d9eba49ac"
      },
      "source": [
        "s = 'Hello Mr. Rogers, how are you this fine Tuesday?'\n",
        "up_low(s)"
      ],
      "execution_count": null,
      "outputs": [
        {
          "output_type": "stream",
          "text": [
            "Original String :  Hello Mr. Rogers, how are you this fine Tuesday?\n",
            "No. of Upper case characters :  4\n",
            "No. of Lower case Characters :  33\n"
          ],
          "name": "stdout"
        }
      ]
    },
    {
      "cell_type": "markdown",
      "metadata": {
        "id": "LkEiZcr1LlIq"
      },
      "source": [
        "____\n",
        "**Write a Python function that takes a list and returns a new list with unique elements of the first list.**\n",
        "\n",
        "    Sample List : [1,1,1,1,2,2,3,3,3,3,4,5]\n",
        "    Unique List : [1, 2, 3, 4, 5]"
      ]
    },
    {
      "cell_type": "code",
      "metadata": {
        "collapsed": true,
        "id": "HFXGGkrfLlIr"
      },
      "source": [
        "def unique_list(lst):\n",
        "  x = []\n",
        "  for a in lst:\n",
        "    if a not in x:\n",
        "      x.append(a)\n",
        "  return x\n",
        "   "
      ],
      "execution_count": null,
      "outputs": []
    },
    {
      "cell_type": "code",
      "metadata": {
        "id": "HsgPXJz3LlIs",
        "colab": {
          "base_uri": "https://localhost:8080/"
        },
        "outputId": "c41e58f8-8175-4ea8-f6d8-622dfebb8432"
      },
      "source": [
        "unique_list([1,1,1,1,2,2,3,3,3,3,4,5])"
      ],
      "execution_count": null,
      "outputs": [
        {
          "output_type": "execute_result",
          "data": {
            "text/plain": [
              "[1, 2, 3, 4, 5]"
            ]
          },
          "metadata": {
            "tags": []
          },
          "execution_count": 25
        }
      ]
    },
    {
      "cell_type": "markdown",
      "metadata": {
        "id": "7IR9gyoFLlIs"
      },
      "source": [
        "**Write a Python function to create and print a list where the values are square of numbers between 1 and 30 (both included)**"
      ]
    },
    {
      "cell_type": "code",
      "metadata": {
        "id": "l2tU_pgsLlIt"
      },
      "source": [
        "def squre_vals():\n",
        "  ls = []\n",
        "  for i in range (1,31):\n",
        "    ls.append(i*i)\n",
        "  return ls"
      ],
      "execution_count": null,
      "outputs": []
    },
    {
      "cell_type": "code",
      "metadata": {
        "id": "svV07loTPzQL",
        "colab": {
          "base_uri": "https://localhost:8080/"
        },
        "outputId": "e58dc7a9-964c-4530-eee6-5b338b312a41"
      },
      "source": [
        "squre_vals()"
      ],
      "execution_count": null,
      "outputs": [
        {
          "output_type": "execute_result",
          "data": {
            "text/plain": [
              "[1,\n",
              " 4,\n",
              " 9,\n",
              " 16,\n",
              " 25,\n",
              " 36,\n",
              " 49,\n",
              " 64,\n",
              " 81,\n",
              " 100,\n",
              " 121,\n",
              " 144,\n",
              " 169,\n",
              " 196,\n",
              " 225,\n",
              " 256,\n",
              " 289,\n",
              " 324,\n",
              " 361,\n",
              " 400,\n",
              " 441,\n",
              " 484,\n",
              " 529,\n",
              " 576,\n",
              " 625,\n",
              " 676,\n",
              " 729,\n",
              " 784,\n",
              " 841,\n",
              " 900]"
            ]
          },
          "metadata": {
            "tags": []
          },
          "execution_count": 28
        }
      ]
    },
    {
      "cell_type": "markdown",
      "metadata": {
        "id": "JHIqHyF1LlIu"
      },
      "source": [
        "**Write a recursive function to calculate the sum of numbers from 0 to 10**"
      ]
    },
    {
      "cell_type": "code",
      "metadata": {
        "id": "KGr7bXEALlIu"
      },
      "source": [
        "def recurSum(n): \n",
        "    if n <= 1: \n",
        "        return n \n",
        "    return n + recurSum(n - 1) "
      ],
      "execution_count": null,
      "outputs": []
    },
    {
      "cell_type": "code",
      "metadata": {
        "id": "0U5s-V5cQkPo",
        "colab": {
          "base_uri": "https://localhost:8080/"
        },
        "outputId": "551ff574-e40d-4a74-e8a1-6544e5658abb"
      },
      "source": [
        "recurSum(5)"
      ],
      "execution_count": null,
      "outputs": [
        {
          "output_type": "execute_result",
          "data": {
            "text/plain": [
              "15"
            ]
          },
          "metadata": {
            "tags": []
          },
          "execution_count": 33
        }
      ]
    },
    {
      "cell_type": "markdown",
      "metadata": {
        "id": "qi7mkpCpLlIv"
      },
      "source": [
        "____\n",
        "**Write a Python function to multiply all the numbers in a list.**\n",
        "\n",
        "    Sample List : [1, 2, 3, -4]\n",
        "    Expected Output : -24"
      ]
    },
    {
      "cell_type": "code",
      "metadata": {
        "collapsed": true,
        "id": "ZcXZYY6wLlIv"
      },
      "source": [
        "\n",
        "def multiply(numbers):  \n",
        "  res = 1\n",
        "  for i in numbers:\n",
        "    res = res * i\n",
        "  return res"
      ],
      "execution_count": null,
      "outputs": []
    },
    {
      "cell_type": "code",
      "metadata": {
        "id": "VjdLw79BLlIw",
        "colab": {
          "base_uri": "https://localhost:8080/"
        },
        "outputId": "e125611c-416d-4f05-b536-298241ebd4fc"
      },
      "source": [
        "multiply([1,2,3,-4])\r\n"
      ],
      "execution_count": null,
      "outputs": [
        {
          "output_type": "execute_result",
          "data": {
            "text/plain": [
              "-24"
            ]
          },
          "metadata": {
            "tags": []
          },
          "execution_count": 51
        }
      ]
    },
    {
      "cell_type": "markdown",
      "metadata": {
        "id": "2OEuiZBiLlIw"
      },
      "source": [
        "____\n",
        "**Write a Python function that checks whether a word or phrase is palindrome or not.**\n",
        "\n",
        "Note: A palindrome is word, phrase, or sequence that reads the same backward as forward, e.g., madam,kayak,racecar, or a phrase \"nurses run\". Hint: You may want to check out the .replace() method in a string to help out with dealing with spaces. Also google search how to reverse a string in Python, there are some clever ways to do it with slicing notation."
      ]
    },
    {
      "cell_type": "code",
      "metadata": {
        "collapsed": true,
        "id": "_BlVCQgTLlIx"
      },
      "source": [
        "def palindrome(s):\n",
        "  return s == s[::-1]"
      ],
      "execution_count": null,
      "outputs": []
    },
    {
      "cell_type": "code",
      "metadata": {
        "id": "tVP7Jq6bLlIy",
        "colab": {
          "base_uri": "https://localhost:8080/"
        },
        "outputId": "e9aa3886-8b2b-4d2b-9707-7c165c13dc8c"
      },
      "source": [
        "palindrome('helleh')"
      ],
      "execution_count": null,
      "outputs": [
        {
          "output_type": "execute_result",
          "data": {
            "text/plain": [
              "True"
            ]
          },
          "metadata": {
            "tags": []
          },
          "execution_count": 53
        }
      ]
    },
    {
      "cell_type": "markdown",
      "metadata": {
        "id": "V-j_k8XULlIz"
      },
      "source": [
        "**Write a Python function to calculate the factorial of a number (a non-negative integer). The function accepts the number as an argument**"
      ]
    },
    {
      "cell_type": "code",
      "metadata": {
        "id": "7KYSXLH_LlIz"
      },
      "source": [
        "def factorial(num):\n",
        "  res = 1\n",
        "  for i in range(1,num+1):\n",
        "    res = res * i\n",
        "  return res"
      ],
      "execution_count": null,
      "outputs": []
    },
    {
      "cell_type": "code",
      "metadata": {
        "id": "oiz-A1A9TDUK",
        "colab": {
          "base_uri": "https://localhost:8080/"
        },
        "outputId": "c74c6554-decf-4a9a-b79f-de146e0dc3b9"
      },
      "source": [
        "factorial(5)"
      ],
      "execution_count": null,
      "outputs": [
        {
          "output_type": "execute_result",
          "data": {
            "text/plain": [
              "120"
            ]
          },
          "metadata": {
            "tags": []
          },
          "execution_count": 55
        }
      ]
    },
    {
      "cell_type": "markdown",
      "metadata": {
        "id": "dHwFaqA2LlI0"
      },
      "source": [
        "____\n",
        "#### Hard:\n",
        "\n",
        "**Write a Python function to check whether a string is pangram or not. (Assume the string passed in does not have any punctuation)**\n",
        "\n",
        "    Note : Pangrams are words or sentences containing every letter of the alphabet at least once.\n",
        "    For example : \"The quick brown fox jumps over the lazy dog\"\n",
        "\n",
        "Hint: You may want to use .replace() method to get rid of spaces.\n",
        "\n",
        "Hint: Look at the [string module](https://stackoverflow.com/questions/16060899/alphabet-range-in-python)\n",
        "\n",
        "Hint: In case you want to use [set comparisons](https://medium.com/better-programming/a-visual-guide-to-set-comparisons-in-python-6ab7edb9ec41)"
      ]
    },
    {
      "cell_type": "code",
      "metadata": {
        "collapsed": true,
        "id": "1qorEKChLlI0"
      },
      "source": [
        "import string\n",
        "\n",
        "def ispangram(str):\n",
        "  alphabet = \"abcdefghijklmnopqrstuvwxyz\"\n",
        "  for char in alphabet:\n",
        "    if char not in str.lower(): \n",
        "      return False\n",
        "  \n",
        "  return True"
      ],
      "execution_count": null,
      "outputs": []
    },
    {
      "cell_type": "code",
      "metadata": {
        "id": "ADEwiWy0LlI1",
        "colab": {
          "base_uri": "https://localhost:8080/"
        },
        "outputId": "fc276b00-fc1a-41fc-f32c-9106f3c09a0b"
      },
      "source": [
        "ispangram(\"The quick brown fox jumps over the lazy dog\")"
      ],
      "execution_count": null,
      "outputs": [
        {
          "output_type": "execute_result",
          "data": {
            "text/plain": [
              "True"
            ]
          },
          "metadata": {
            "tags": []
          },
          "execution_count": 59
        }
      ]
    },
    {
      "cell_type": "code",
      "metadata": {
        "id": "Z4DyeoqdLlI1",
        "colab": {
          "base_uri": "https://localhost:8080/",
          "height": 35
        },
        "outputId": "7e6a3871-c8ee-4cef-8354-931804716421"
      },
      "source": [
        "string.ascii_lowercase"
      ],
      "execution_count": null,
      "outputs": [
        {
          "output_type": "execute_result",
          "data": {
            "application/vnd.google.colaboratory.intrinsic+json": {
              "type": "string"
            },
            "text/plain": [
              "'abcdefghijklmnopqrstuvwxyz'"
            ]
          },
          "metadata": {
            "tags": []
          },
          "execution_count": 60
        }
      ]
    },
    {
      "cell_type": "markdown",
      "metadata": {
        "collapsed": true,
        "id": "uZWgFpAjLlI2"
      },
      "source": [
        "#### Great Job!"
      ]
    }
  ]
}