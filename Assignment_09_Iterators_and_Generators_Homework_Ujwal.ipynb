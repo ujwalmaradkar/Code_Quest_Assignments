{
  "nbformat": 4,
  "nbformat_minor": 0,
  "metadata": {
    "kernelspec": {
      "display_name": "Python 3",
      "language": "python",
      "name": "python3"
    },
    "language_info": {
      "codemirror_mode": {
        "name": "ipython",
        "version": 3
      },
      "file_extension": ".py",
      "mimetype": "text/x-python",
      "name": "python",
      "nbconvert_exporter": "python",
      "pygments_lexer": "ipython3",
      "version": "3.6.8"
    },
    "colab": {
      "name": "02-Iterators and Generators Homework.ipynb",
      "provenance": [],
      "include_colab_link": true
    }
  },
  "cells": [
    {
      "cell_type": "markdown",
      "metadata": {
        "id": "view-in-github",
        "colab_type": "text"
      },
      "source": [
        "<a href=\"https://colab.research.google.com/github/ujwalmaradkar/Code_Quest_Assignments/blob/main/Assignment_09_Iterators_and_Generators_Homework_Ujwal.ipynb\" target=\"_parent\"><img src=\"https://colab.research.google.com/assets/colab-badge.svg\" alt=\"Open In Colab\"/></a>"
      ]
    },
    {
      "cell_type": "markdown",
      "metadata": {
        "id": "wePpk5Tz8yPW"
      },
      "source": [
        "# Iterators and Generators Homework \n",
        "\n",
        "### Problem 1\n",
        "\n",
        "Create a generator that generates the squares of numbers up to some number N."
      ]
    },
    {
      "cell_type": "code",
      "metadata": {
        "collapsed": true,
        "id": "QwkjXDoA8yPo"
      },
      "source": [
        "def gensquares(N):\n",
        "  for i in range(0,N+1):\n",
        "    yield i*i"
      ],
      "execution_count": 2,
      "outputs": []
    },
    {
      "cell_type": "code",
      "metadata": {
        "id": "HpkYCJ1R8yPq",
        "outputId": "5e3f6920-083f-4038-eed0-11354cb98ef1",
        "colab": {
          "base_uri": "https://localhost:8080/"
        }
      },
      "source": [
        "for x in gensquares(10):\n",
        "    print(x)"
      ],
      "execution_count": 3,
      "outputs": [
        {
          "output_type": "stream",
          "text": [
            "0\n",
            "1\n",
            "4\n",
            "9\n",
            "16\n",
            "25\n",
            "36\n",
            "49\n",
            "64\n",
            "81\n",
            "100\n"
          ],
          "name": "stdout"
        }
      ]
    },
    {
      "cell_type": "markdown",
      "metadata": {
        "id": "ad3Za2yp8yPt"
      },
      "source": [
        "### Problem 2\n",
        "\n",
        "Create a generator that yields \"n\" random numbers between a low and high number (that are inputs). <br>Note: Use the random library. For example:"
      ]
    },
    {
      "cell_type": "code",
      "metadata": {
        "id": "Nci6WBqD8yPu",
        "outputId": "087e1414-23c0-476b-ab41-46c7bef2d0ba",
        "colab": {
          "base_uri": "https://localhost:8080/"
        }
      },
      "source": [
        "import random\n",
        "\n",
        "random.randint(1,10)"
      ],
      "execution_count": 6,
      "outputs": [
        {
          "output_type": "execute_result",
          "data": {
            "text/plain": [
              "9"
            ]
          },
          "metadata": {
            "tags": []
          },
          "execution_count": 6
        }
      ]
    },
    {
      "cell_type": "code",
      "metadata": {
        "collapsed": true,
        "id": "kDXSfRkj8yPv"
      },
      "source": [
        "def rand_num(low,high,n):\n",
        "  for i in range(0,n):\n",
        "    yield random.randint(low,high)"
      ],
      "execution_count": 9,
      "outputs": []
    },
    {
      "cell_type": "code",
      "metadata": {
        "id": "Qxvw080O8yPv",
        "outputId": "a5a190e7-cafc-4e28-bae8-9609fa0a74ba",
        "colab": {
          "base_uri": "https://localhost:8080/"
        }
      },
      "source": [
        "for num in rand_num(1,10,12):\n",
        "    print(num)"
      ],
      "execution_count": 10,
      "outputs": [
        {
          "output_type": "stream",
          "text": [
            "9\n",
            "4\n",
            "2\n",
            "9\n",
            "5\n",
            "4\n",
            "3\n",
            "10\n",
            "2\n",
            "9\n",
            "9\n",
            "6\n"
          ],
          "name": "stdout"
        }
      ]
    },
    {
      "cell_type": "markdown",
      "metadata": {
        "id": "8D4YkjGD8yPw"
      },
      "source": [
        "### Problem 3\n",
        "\n",
        "Use the iter() function to convert the string below into an iterator:\n"
      ]
    },
    {
      "cell_type": "code",
      "metadata": {
        "collapsed": true,
        "id": "qWOPXjYN8yPx"
      },
      "source": [
        "s = 'hello'\n",
        "def __iter__(self,s):\n",
        "  return s\n"
      ],
      "execution_count": 12,
      "outputs": []
    },
    {
      "cell_type": "markdown",
      "metadata": {
        "id": "iNPq9fie8yPy"
      },
      "source": [
        "### Problem 4\n",
        "Explain a use case for a generator using a yield statement where you would not want to use a normal function with a return statement.<br><br><br><br><br><br>\n",
        "\n",
        "Python generator gives us an easier way to create python iterators. This is done by defining a function but instead of the return statement returning from the function, use the \"yield\" keyword."
      ]
    },
    {
      "cell_type": "markdown",
      "metadata": {
        "id": "Usk53mam8yPy"
      },
      "source": [
        "### Extra Credit!\n",
        "Can you explain what *gencomp* is in the code below? (Note: We never covered this in lecture! You will have to do some Googling/Stack Overflowing!)"
      ]
    },
    {
      "cell_type": "code",
      "metadata": {
        "id": "ZqtoFK828yPz",
        "outputId": "173b9108-9c63-41a5-88ed-5ffbfd0a1449"
      },
      "source": [
        "my_list = [1,2,3,4,5]\n",
        "\n",
        "gencomp = (item for item in my_list if item > 3)\n",
        "\n",
        "for item in gencomp:\n",
        "    print(item)"
      ],
      "execution_count": null,
      "outputs": [
        {
          "output_type": "stream",
          "text": [
            "4\n",
            "5\n"
          ],
          "name": "stdout"
        }
      ]
    },
    {
      "cell_type": "markdown",
      "metadata": {
        "id": "jB0G8May8yP0"
      },
      "source": [
        "This is an example of *List comprehension*!\n",
        "\n",
        "\n",
        "\n",
        "\n",
        "\n",
        "# Great Job!"
      ]
    },
    {
      "cell_type": "code",
      "metadata": {
        "id": "ii68qZWh_rRZ"
      },
      "source": [
        ""
      ],
      "execution_count": null,
      "outputs": []
    }
  ]
}