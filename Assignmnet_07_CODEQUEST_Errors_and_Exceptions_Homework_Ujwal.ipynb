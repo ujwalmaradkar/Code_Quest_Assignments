{
  "nbformat": 4,
  "nbformat_minor": 0,
  "metadata": {
    "kernelspec": {
      "display_name": "Python 3",
      "language": "python",
      "name": "python3"
    },
    "language_info": {
      "codemirror_mode": {
        "name": "ipython",
        "version": 3
      },
      "file_extension": ".py",
      "mimetype": "text/x-python",
      "name": "python",
      "nbconvert_exporter": "python",
      "pygments_lexer": "ipython3",
      "version": "3.6.8"
    },
    "colab": {
      "name": "02-Errors and Exceptions Homework.ipynb",
      "provenance": [],
      "include_colab_link": true
    }
  },
  "cells": [
    {
      "cell_type": "markdown",
      "metadata": {
        "id": "view-in-github",
        "colab_type": "text"
      },
      "source": [
        "<a href=\"https://colab.research.google.com/github/ujwalmaradkar/Code_Quest_Assignments/blob/main/Assignmnet_07_CODEQUEST_Errors_and_Exceptions_Homework_Ujwal.ipynb\" target=\"_parent\"><img src=\"https://colab.research.google.com/assets/colab-badge.svg\" alt=\"Open In Colab\"/></a>"
      ]
    },
    {
      "cell_type": "markdown",
      "metadata": {
        "id": "ZLC0_CDpS3U4"
      },
      "source": [
        "# Errors and Exceptions Homework"
      ]
    },
    {
      "cell_type": "markdown",
      "metadata": {
        "id": "CMGpw2ebS3VI"
      },
      "source": [
        "### Problem 1\n",
        "Handle the exception thrown by the code below by using <code>try</code> and <code>except</code> blocks."
      ]
    },
    {
      "cell_type": "code",
      "metadata": {
        "id": "JodqPwpxS3VK",
        "outputId": "95994163-b146-40c6-8ab2-331a7ed14b5e",
        "colab": {
          "base_uri": "https://localhost:8080/"
        }
      },
      "source": [
        "for i in ['a','b','c']:\n",
        "  try:\n",
        "    print(i**2)\n",
        "  except:\n",
        "    print(\"You are Giving characters \")\n",
        "  finally:\n",
        "    print(\"Thanks for using our service\")\n",
        "  break\n"
      ],
      "execution_count": 4,
      "outputs": [
        {
          "output_type": "stream",
          "text": [
            "You are Giving characters \n",
            "Thanks for using our service\n"
          ],
          "name": "stdout"
        }
      ]
    },
    {
      "cell_type": "markdown",
      "metadata": {
        "id": "3KZ-n5xKS3VN"
      },
      "source": [
        "### Problem 2\n",
        "Handle the exception thrown by the code below by using <code>try</code> and <code>except</code> blocks. Then use a <code>finally</code> block to print 'All Done.'"
      ]
    },
    {
      "cell_type": "code",
      "metadata": {
        "id": "v84-KHlVS3VO",
        "outputId": "989d2754-c03e-409f-b89d-69a0edb0e631",
        "colab": {
          "base_uri": "https://localhost:8080/"
        }
      },
      "source": [
        "x = 5\n",
        "y = 0\n",
        "try:\n",
        "  z = x/y\n",
        "except:\n",
        "  print(\"Division by zero\\nPlease check the divisor\")\n",
        "finally:\n",
        "  print(\"All Done.\")"
      ],
      "execution_count": 5,
      "outputs": [
        {
          "output_type": "stream",
          "text": [
            "Division by zero\n",
            "Please check the divisor\n",
            "All Done.\n"
          ],
          "name": "stdout"
        }
      ]
    },
    {
      "cell_type": "markdown",
      "metadata": {
        "id": "f_jRgUL0S3VP"
      },
      "source": [
        "### Problem 3\n",
        "Write a function that asks for an integer and prints the square of it. Use a <code>while</code> loop with a <code>try</code>, <code>except</code>, <code>else</code> block to account for incorrect inputs."
      ]
    },
    {
      "cell_type": "code",
      "metadata": {
        "collapsed": true,
        "id": "QUrFwy9rS3VQ"
      },
      "source": [
        "def ask():\n",
        "  while True:\n",
        "    print(\"Input an Integer: \")\n",
        "    try:\n",
        "      inp = int(input())\n",
        "    except:\n",
        "      print(\"An error occured! Please try again \")\n",
        "    \n",
        "    else:\n",
        "      print(\"Thank you, Your number squared is: \",inp**2)\n",
        "      break\n"
      ],
      "execution_count": 8,
      "outputs": []
    },
    {
      "cell_type": "code",
      "metadata": {
        "id": "SoZ58k_AS3VQ",
        "outputId": "517c372f-26e7-4f5e-9e81-3d33f408a166",
        "colab": {
          "base_uri": "https://localhost:8080/"
        }
      },
      "source": [
        "ask()"
      ],
      "execution_count": 9,
      "outputs": [
        {
          "output_type": "stream",
          "text": [
            "Input an Integer: \n",
            "d\n",
            "An error occured! Please try again \n",
            "Input an Integer: \n",
            "3\n",
            "Thank you, Your number squared is:  9\n"
          ],
          "name": "stdout"
        }
      ]
    },
    {
      "cell_type": "markdown",
      "metadata": {
        "id": "8deJ_8AcS3VR"
      },
      "source": [
        "# Great Job!"
      ]
    }
  ]
}