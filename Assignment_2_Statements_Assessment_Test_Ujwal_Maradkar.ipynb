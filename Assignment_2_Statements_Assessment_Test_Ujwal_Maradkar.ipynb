{
  "nbformat": 4,
  "nbformat_minor": 0,
  "metadata": {
    "kernelspec": {
      "display_name": "Python 3",
      "language": "python",
      "name": "python3"
    },
    "language_info": {
      "codemirror_mode": {
        "name": "ipython",
        "version": 3
      },
      "file_extension": ".py",
      "mimetype": "text/x-python",
      "name": "python",
      "nbconvert_exporter": "python",
      "pygments_lexer": "ipython3",
      "version": "3.6.8"
    },
    "colab": {
      "name": "Assignment 2 -Statements Assessment Test Ujwal Maradkar.ipynb",
      "provenance": [],
      "collapsed_sections": [],
      "include_colab_link": true
    }
  },
  "cells": [
    {
      "cell_type": "markdown",
      "metadata": {
        "id": "view-in-github",
        "colab_type": "text"
      },
      "source": [
        "<a href=\"https://colab.research.google.com/github/ujwalmaradkar/Code_Quest_Assignments/blob/main/Assignment_2_Statements_Assessment_Test_Ujwal_Maradkar.ipynb\" target=\"_parent\"><img src=\"https://colab.research.google.com/assets/colab-badge.svg\" alt=\"Open In Colab\"/></a>"
      ]
    },
    {
      "cell_type": "markdown",
      "metadata": {
        "collapsed": true,
        "id": "fFDm-l0sdkaE"
      },
      "source": [
        "# Statements Assessment Test\n",
        "Let's test your knowledge!"
      ]
    },
    {
      "cell_type": "markdown",
      "metadata": {
        "id": "S1K3TdG3dkag"
      },
      "source": [
        "**use for loop to acess the given element of 2D list and print it**"
      ]
    },
    {
      "cell_type": "code",
      "metadata": {
        "id": "GjG8Xi89dkaj"
      },
      "source": [
        "list2d = [[0, 0, 0, 0, 0], [0, 0, 0, 0, 0], [0, 0, 0, 0, 0], [0, 0, 0, 0, 0], [0, 0, 0, 0, 0]]\r\n"
      ],
      "execution_count": null,
      "outputs": []
    },
    {
      "cell_type": "code",
      "metadata": {
        "id": "SWIo52E_dkal",
        "colab": {
          "base_uri": "https://localhost:8080/"
        },
        "outputId": "f607350d-b120-4681-aa60-38c024e0508a"
      },
      "source": [
        "#write your code here\r\n",
        "for i in range(0,5):\r\n",
        "  for j in range(0,5):\r\n",
        "    print(list2d[i][j],end = ' ')\r\n",
        "  print()"
      ],
      "execution_count": null,
      "outputs": [
        {
          "output_type": "stream",
          "text": [
            "0 0 0 0 0 \n",
            "0 0 0 0 0 \n",
            "0 0 0 0 0 \n",
            "0 0 0 0 0 \n",
            "0 0 0 0 0 \n"
          ],
          "name": "stdout"
        }
      ]
    },
    {
      "cell_type": "markdown",
      "metadata": {
        "id": "uC8UIR2zdkan"
      },
      "source": [
        "**change the element in this 2d list. any kind of change you want is acceptable**"
      ]
    },
    {
      "cell_type": "code",
      "metadata": {
        "id": "A16hYHokdkao",
        "colab": {
          "base_uri": "https://localhost:8080/"
        },
        "outputId": "a1f368f3-3eed-48cf-ef89-da3eaec3556a"
      },
      "source": [
        "#write your code here\n",
        "for i in range(0,5):\n",
        "  list2d[1][i] = i=i+1\n",
        "for i in range(0,5):\n",
        "  for j in range(0,5):\n",
        "    print(list2d[i][j],end = ' ')\n",
        "  print()\n",
        " "
      ],
      "execution_count": null,
      "outputs": [
        {
          "output_type": "stream",
          "text": [
            "0 0 0 0 0 \n",
            "1 2 3 4 5 \n",
            "0 0 0 0 0 \n",
            "0 0 0 0 0 \n",
            "0 0 0 0 0 \n"
          ],
          "name": "stdout"
        }
      ]
    },
    {
      "cell_type": "markdown",
      "metadata": {
        "id": "Zl9Y1cHrdkap"
      },
      "source": [
        "_____\n",
        "**Use <code>for</code>, .split(), and <code>if</code> to create a Statement that will print out words that start with 's':**"
      ]
    },
    {
      "cell_type": "code",
      "metadata": {
        "collapsed": true,
        "id": "YyABmCzmdkap"
      },
      "source": [
        "st = 'Print only the words that start with s in this sentence'"
      ],
      "execution_count": null,
      "outputs": []
    },
    {
      "cell_type": "code",
      "metadata": {
        "collapsed": true,
        "id": "0doMZvbVdkar",
        "colab": {
          "base_uri": "https://localhost:8080/"
        },
        "outputId": "2c9af355-db51-4a28-efa3-247431bc1b04"
      },
      "source": [
        "#Code here\r\n",
        "for i in st.split():\r\n",
        "    if i.startswith(\"s\"):\r\n",
        "        print(i,end = ' ')\r\n",
        "    "
      ],
      "execution_count": null,
      "outputs": [
        {
          "output_type": "stream",
          "text": [
            "start s sentence "
          ],
          "name": "stdout"
        }
      ]
    },
    {
      "cell_type": "markdown",
      "metadata": {
        "id": "-D7ulmEJdkas"
      },
      "source": [
        "______\n",
        "**Use range() to print all the even numbers from 0 to 10.**"
      ]
    },
    {
      "cell_type": "code",
      "metadata": {
        "collapsed": true,
        "id": "31eldaVtdkas",
        "colab": {
          "base_uri": "https://localhost:8080/"
        },
        "outputId": "e1011554-8579-4043-ab13-9e631a8c6d15"
      },
      "source": [
        "#Code Here\r\n",
        "for i in range (0,11):\r\n",
        "  if(i % 2 == 0):\r\n",
        "    print(i,end = ' ')\r\n",
        "  "
      ],
      "execution_count": null,
      "outputs": [
        {
          "output_type": "stream",
          "text": [
            "0 2 4 6 8 10 "
          ],
          "name": "stdout"
        }
      ]
    },
    {
      "cell_type": "markdown",
      "metadata": {
        "id": "LjBXiSODdkat"
      },
      "source": [
        "___\n",
        "**Use a List Comprehension to create a list of all numbers between 1 and 50 that are divisible by 3.**"
      ]
    },
    {
      "cell_type": "code",
      "metadata": {
        "collapsed": true,
        "id": "MB3v0sUvdkau",
        "colab": {
          "base_uri": "https://localhost:8080/"
        },
        "outputId": "bb9510ac-f79b-4827-c42d-64c9c3dd3379"
      },
      "source": [
        "#Code in this cell\n",
        "ls = []\n",
        "for i in range (0,51):\n",
        "  if (i % 3 == 0):\n",
        "    ls.append(i) \n",
        "print (ls)"
      ],
      "execution_count": null,
      "outputs": [
        {
          "output_type": "stream",
          "text": [
            "[0, 3, 6, 9, 12, 15, 18, 21, 24, 27, 30, 33, 36, 39, 42, 45, 48]\n"
          ],
          "name": "stdout"
        }
      ]
    },
    {
      "cell_type": "markdown",
      "metadata": {
        "id": "KffyElxHdkav"
      },
      "source": [
        "_____\n",
        "**Go through the string below and if the length of a word is even print \"even!\"**"
      ]
    },
    {
      "cell_type": "code",
      "metadata": {
        "collapsed": true,
        "id": "bwDArcFIdkaw"
      },
      "source": [
        "st = 'Print every word in this sentence that has an even number of letters'"
      ],
      "execution_count": null,
      "outputs": []
    },
    {
      "cell_type": "code",
      "metadata": {
        "collapsed": true,
        "id": "r3lm2Fh2dkaw",
        "colab": {
          "base_uri": "https://localhost:8080/"
        },
        "outputId": "df6a6fd2-5971-4aa5-a35d-8a1e57da2031"
      },
      "source": [
        "#Code in this cell\r\n",
        "for i in st.split():\r\n",
        " if len(i) % 2== 0:\r\n",
        "   print(i,len(i),\"even\",end = '  ')"
      ],
      "execution_count": null,
      "outputs": [
        {
          "output_type": "stream",
          "text": [
            "word 4 even  in 2 even  this 4 even  sentence 8 even  that 4 even  an 2 even  even 4 even  number 6 even  of 2 even  "
          ],
          "name": "stdout"
        }
      ]
    },
    {
      "cell_type": "markdown",
      "metadata": {
        "id": "shNt1kXddkax"
      },
      "source": [
        "**write an example of do while loop,**"
      ]
    },
    {
      "cell_type": "code",
      "metadata": {
        "id": "hSyqYWfQdkay"
      },
      "source": [
        "#Code in this cell\n",
        "# Python doesnt have do while loop \n",
        "# As it have very cool stuff like range & in fuctions, it doesnt require do_while loop"
      ],
      "execution_count": null,
      "outputs": []
    },
    {
      "cell_type": "markdown",
      "metadata": {
        "id": "1E0myctfdkaz"
      },
      "source": [
        "____\n",
        "**Write a program that prints the integers from 1 to 100. But for multiples of three print \"Fizz\" instead of the number, and for the multiples of five print \"Buzz\". For numbers which are multiples of both three and five print \"FizzBuzz\".**"
      ]
    },
    {
      "cell_type": "code",
      "metadata": {
        "collapsed": true,
        "id": "wkaur9Z8dka0",
        "colab": {
          "base_uri": "https://localhost:8080/"
        },
        "outputId": "0c36da40-e60b-4748-88b1-7cb3a5ddd3d5"
      },
      "source": [
        "#Code in this cell\r\n",
        "for i in range(0,101):\r\n",
        "  if(i % 3== 0 and i % 5 == 0):\r\n",
        "    print(\"FizzBuzz\",end = '\\n')\r\n",
        "  elif i % 3 == 0:\r\n",
        "    print(\"Fizz\",end = '\\n')\r\n",
        "  elif i % 5 == 0: \r\n",
        "    print(\"Buzz\",end = '\\n')\r\n",
        "  \r\n",
        "  else:\r\n",
        "     print(i)"
      ],
      "execution_count": null,
      "outputs": [
        {
          "output_type": "stream",
          "text": [
            "FizzBuzz\n",
            "1\n",
            "2\n",
            "Fizz\n",
            "4\n",
            "Buzz\n",
            "Fizz\n",
            "7\n",
            "8\n",
            "Fizz\n",
            "Buzz\n",
            "11\n",
            "Fizz\n",
            "13\n",
            "14\n",
            "FizzBuzz\n",
            "16\n",
            "17\n",
            "Fizz\n",
            "19\n",
            "Buzz\n",
            "Fizz\n",
            "22\n",
            "23\n",
            "Fizz\n",
            "Buzz\n",
            "26\n",
            "Fizz\n",
            "28\n",
            "29\n",
            "FizzBuzz\n",
            "31\n",
            "32\n",
            "Fizz\n",
            "34\n",
            "Buzz\n",
            "Fizz\n",
            "37\n",
            "38\n",
            "Fizz\n",
            "Buzz\n",
            "41\n",
            "Fizz\n",
            "43\n",
            "44\n",
            "FizzBuzz\n",
            "46\n",
            "47\n",
            "Fizz\n",
            "49\n",
            "Buzz\n",
            "Fizz\n",
            "52\n",
            "53\n",
            "Fizz\n",
            "Buzz\n",
            "56\n",
            "Fizz\n",
            "58\n",
            "59\n",
            "FizzBuzz\n",
            "61\n",
            "62\n",
            "Fizz\n",
            "64\n",
            "Buzz\n",
            "Fizz\n",
            "67\n",
            "68\n",
            "Fizz\n",
            "Buzz\n",
            "71\n",
            "Fizz\n",
            "73\n",
            "74\n",
            "FizzBuzz\n",
            "76\n",
            "77\n",
            "Fizz\n",
            "79\n",
            "Buzz\n",
            "Fizz\n",
            "82\n",
            "83\n",
            "Fizz\n",
            "Buzz\n",
            "86\n",
            "Fizz\n",
            "88\n",
            "89\n",
            "FizzBuzz\n",
            "91\n",
            "92\n",
            "Fizz\n",
            "94\n",
            "Buzz\n",
            "Fizz\n",
            "97\n",
            "98\n",
            "Fizz\n",
            "Buzz\n"
          ],
          "name": "stdout"
        }
      ]
    },
    {
      "cell_type": "markdown",
      "metadata": {
        "id": "37OWwwE3dka1"
      },
      "source": [
        "____\n",
        "**Use List Comprehension to create a list of the first letters of every word in the string below:**"
      ]
    },
    {
      "cell_type": "code",
      "metadata": {
        "collapsed": true,
        "id": "TER3PmSDdka1"
      },
      "source": [
        "st = 'Create a list of the first letters of every word in this string'"
      ],
      "execution_count": null,
      "outputs": []
    },
    {
      "cell_type": "code",
      "metadata": {
        "collapsed": true,
        "id": "y0k93R8qdka2",
        "colab": {
          "base_uri": "https://localhost:8080/"
        },
        "outputId": "ea55e621-730c-4134-e347-2a0ae36319b9"
      },
      "source": [
        "#Code in this cell\r\n",
        "words = st.split()\r\n",
        "for char in words:\r\n",
        "  ls = char[0]\r\n",
        "  print(list(ls),end=' ')\r\n",
        "\r\n"
      ],
      "execution_count": null,
      "outputs": [
        {
          "output_type": "stream",
          "text": [
            "['C'] ['a'] ['l'] ['o'] ['t'] ['f'] ['l'] ['o'] ['e'] ['w'] ['i'] ['t'] ['s'] "
          ],
          "name": "stdout"
        }
      ]
    },
    {
      "cell_type": "markdown",
      "metadata": {
        "id": "gwU9q2cAdka3"
      },
      "source": [
        "**Give an example of nested list comprehension**"
      ]
    },
    {
      "cell_type": "code",
      "metadata": {
        "id": "KY6_RCondka3",
        "colab": {
          "base_uri": "https://localhost:8080/"
        },
        "outputId": "975c88a0-06f3-4fb3-c8c9-53304b666907"
      },
      "source": [
        "#Code in this cell\n",
        "ls = [[1,2,3,4,],[5,6,7,8],[9,10,11,12]]\n",
        "print(list(ls))\n"
      ],
      "execution_count": null,
      "outputs": [
        {
          "output_type": "stream",
          "text": [
            "[[1, 2, 3, 4], [5, 6, 7, 8], [9, 10, 11, 12]]\n"
          ],
          "name": "stdout"
        }
      ]
    },
    {
      "cell_type": "markdown",
      "metadata": {
        "id": "lV3Se-KYdka4"
      },
      "source": [
        "### Great Job!"
      ]
    }
  ]
}