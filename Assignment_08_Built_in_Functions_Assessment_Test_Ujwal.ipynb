{
  "nbformat": 4,
  "nbformat_minor": 0,
  "metadata": {
    "kernelspec": {
      "display_name": "Python 3",
      "language": "python",
      "name": "python3"
    },
    "language_info": {
      "codemirror_mode": {
        "name": "ipython",
        "version": 3
      },
      "file_extension": ".py",
      "mimetype": "text/x-python",
      "name": "python",
      "nbconvert_exporter": "python",
      "pygments_lexer": "ipython3",
      "version": "3.6.8"
    },
    "colab": {
      "name": "08-Built-in Functions Assessment Test.ipynb",
      "provenance": [],
      "include_colab_link": true
    }
  },
  "cells": [
    {
      "cell_type": "markdown",
      "metadata": {
        "id": "view-in-github",
        "colab_type": "text"
      },
      "source": [
        "<a href=\"https://colab.research.google.com/github/ujwalmaradkar/Code_Quest_Assignments/blob/main/Assignment_08_Built_in_Functions_Assessment_Test_Ujwal.ipynb\" target=\"_parent\"><img src=\"https://colab.research.google.com/assets/colab-badge.svg\" alt=\"Open In Colab\"/></a>"
      ]
    },
    {
      "cell_type": "markdown",
      "metadata": {
        "id": "TkdiU_VQz3Rc"
      },
      "source": [
        "# Built-in Functions Test \n",
        "\n",
        "### For this test, you should use built-in functions and be able to write the requested functions in one line."
      ]
    },
    {
      "cell_type": "markdown",
      "metadata": {
        "id": "FPpgqg8hz3Ru"
      },
      "source": [
        "### Problem 1\n",
        "\n",
        "Use map() to create a function which finds the length of each word in the phrase\n",
        "(broken by spaces) and returns the values in a list.\n",
        "\n",
        "The function will have an input of a string, and output a list of integers."
      ]
    },
    {
      "cell_type": "code",
      "metadata": {
        "collapsed": true,
        "id": "rPB8_rXZz3Rw"
      },
      "source": [
        "def word_lengths(phrase):\n",
        "  a = list(map(len,phrase.split()))\n",
        "  return a\n",
        "    "
      ],
      "execution_count": 4,
      "outputs": []
    },
    {
      "cell_type": "code",
      "metadata": {
        "colab": {
          "base_uri": "https://localhost:8080/"
        },
        "id": "W5I7By7rz3Ry",
        "outputId": "bf1219bb-d09c-4e90-e6d7-5f5e9f816b3f"
      },
      "source": [
        "word_lengths('How long are the words in this phrase')"
      ],
      "execution_count": 5,
      "outputs": [
        {
          "output_type": "execute_result",
          "data": {
            "text/plain": [
              "[3, 4, 3, 3, 5, 2, 4, 6]"
            ]
          },
          "metadata": {
            "tags": []
          },
          "execution_count": 5
        }
      ]
    },
    {
      "cell_type": "markdown",
      "metadata": {
        "id": "D-RypOS9z3R0"
      },
      "source": [
        "### Problem 2 \n",
        "\n",
        "Use reduce() to take a list of digits and return the number that they\n",
        "correspond to. For example, \\[1, 2, 3] corresponds to one-hundred-twenty-three. <br>*Do not convert the integers to strings!* "
      ]
    },
    {
      "cell_type": "code",
      "metadata": {
        "collapsed": true,
        "id": "OEe3J2IYz3R2"
      },
      "source": [
        "from functools import reduce\n",
        "\n",
        "def digits_to_num(digits):\n",
        "  num = reduce(lambda a,d: 10*a+d, digits, 0)\n",
        "  return num "
      ],
      "execution_count": 6,
      "outputs": []
    },
    {
      "cell_type": "code",
      "metadata": {
        "colab": {
          "base_uri": "https://localhost:8080/"
        },
        "id": "2X96LkNfz3R2",
        "outputId": "f22d0cc1-b9fb-464b-92b9-7b078daeea35"
      },
      "source": [
        "digits_to_num([3,4,3,2,1])"
      ],
      "execution_count": 7,
      "outputs": [
        {
          "output_type": "execute_result",
          "data": {
            "text/plain": [
              "34321"
            ]
          },
          "metadata": {
            "tags": []
          },
          "execution_count": 7
        }
      ]
    },
    {
      "cell_type": "markdown",
      "metadata": {
        "id": "a2udU6emz3R3"
      },
      "source": [
        "### Problem 3\n",
        "\n",
        "Use filter to return the words from a list of words which start with a target letter."
      ]
    },
    {
      "cell_type": "code",
      "metadata": {
        "collapsed": true,
        "id": "66ewT5-Fz3R4"
      },
      "source": [
        "ls = []\n",
        "def filter_words(input_list,st):\n",
        "  for i in range(0,len(input_list)):\n",
        "    if input_list[i].startswith(st):\n",
        "      ls.append(input_list[i])\n",
        "    else:\n",
        "      pass\n",
        "  return ls\n",
        "\n",
        "    \n"
      ],
      "execution_count": 16,
      "outputs": []
    },
    {
      "cell_type": "code",
      "metadata": {
        "colab": {
          "base_uri": "https://localhost:8080/"
        },
        "id": "p4zrm1SFz3R5",
        "outputId": "8f59334d-fcbc-4d5b-9602-c92b16eca7e0"
      },
      "source": [
        "l = ['hello','are','cat','dog','ham','hi','go','to','heart']\n",
        "filter_words(l,'h')"
      ],
      "execution_count": 17,
      "outputs": [
        {
          "output_type": "execute_result",
          "data": {
            "text/plain": [
              "['hello', 'ham', 'hi', 'heart']"
            ]
          },
          "metadata": {
            "tags": []
          },
          "execution_count": 17
        }
      ]
    },
    {
      "cell_type": "markdown",
      "metadata": {
        "id": "54fUSNhGz3R6"
      },
      "source": [
        "### Problem 4\n",
        "\n",
        "Use zip() and a list comprehension to return a list of the same length where each value is the two strings from\n",
        "L1 and L2 concatenated together with connector between them. Look at the example output below:"
      ]
    },
    {
      "cell_type": "code",
      "metadata": {
        "collapsed": true,
        "id": "klqvOMWLz3R6"
      },
      "source": [
        "ls = []\n",
        "def concatenate(L1, L2, connector):\n",
        "  ls = set(zip(L1,L2))\n",
        "  return ls"
      ],
      "execution_count": 22,
      "outputs": []
    },
    {
      "cell_type": "code",
      "metadata": {
        "colab": {
          "base_uri": "https://localhost:8080/"
        },
        "id": "xzUFwJbez3R7",
        "outputId": "36d6cd7f-3dea-457f-825c-82b0bb9acf6e"
      },
      "source": [
        "concatenate(['A','B'],['a','b'],'-')"
      ],
      "execution_count": 23,
      "outputs": [
        {
          "output_type": "execute_result",
          "data": {
            "text/plain": [
              "{('A', 'a'), ('B', 'b')}"
            ]
          },
          "metadata": {
            "tags": []
          },
          "execution_count": 23
        }
      ]
    },
    {
      "cell_type": "markdown",
      "metadata": {
        "id": "UenBma0Cz3R8"
      },
      "source": [
        "### Problem 5\n",
        "\n",
        "Use enumerate() and other skills to return a dictionary which has the values of the list as keys and the index as the value. You may assume that a value will only appear once in the given list.\n"
      ]
    },
    {
      "cell_type": "code",
      "metadata": {
        "collapsed": true,
        "id": "mux2jPWvz3R8"
      },
      "source": [
        "def d_list(L):\n",
        "  d = dict(enumerate(L))\n",
        "  return d"
      ],
      "execution_count": 24,
      "outputs": []
    },
    {
      "cell_type": "code",
      "metadata": {
        "colab": {
          "base_uri": "https://localhost:8080/"
        },
        "id": "h9l3AEOBz3R9",
        "outputId": "d54f49f9-6e2d-4f93-beba-ddd02eb9a01c"
      },
      "source": [
        "d_list(['a','b','c'])"
      ],
      "execution_count": 25,
      "outputs": [
        {
          "output_type": "execute_result",
          "data": {
            "text/plain": [
              "{0: 'a', 1: 'b', 2: 'c'}"
            ]
          },
          "metadata": {
            "tags": []
          },
          "execution_count": 25
        }
      ]
    },
    {
      "cell_type": "markdown",
      "metadata": {
        "id": "qNMoKlSCz3R-"
      },
      "source": [
        "### Problem 6\n",
        "\n",
        "Use enumerate() and other skills from above to return the count of the number of items in the list whose value equals its index.\n"
      ]
    },
    {
      "cell_type": "code",
      "metadata": {
        "collapsed": true,
        "id": "d2peIdBvz3R-"
      },
      "source": [
        "def count_match_index(L):\n",
        "  count = 0\n",
        "  for i in range(0,len(L)):\n",
        "    if L[i] == i:\n",
        "      count = count + 1\n",
        "    else:\n",
        "      pass\n",
        "  return count\n"
      ],
      "execution_count": 28,
      "outputs": []
    },
    {
      "cell_type": "code",
      "metadata": {
        "colab": {
          "base_uri": "https://localhost:8080/"
        },
        "id": "w8-p_UJfz3R_",
        "outputId": "189173c6-2030-4acc-afc0-2a4f22352af6"
      },
      "source": [
        "count_match_index([0,2,2,1,5,5,6,10])"
      ],
      "execution_count": 29,
      "outputs": [
        {
          "output_type": "execute_result",
          "data": {
            "text/plain": [
              "4"
            ]
          },
          "metadata": {
            "tags": []
          },
          "execution_count": 29
        }
      ]
    },
    {
      "cell_type": "markdown",
      "metadata": {
        "id": "sZMw33Snz3R_"
      },
      "source": [
        "# Great Job!"
      ]
    }
  ]
}